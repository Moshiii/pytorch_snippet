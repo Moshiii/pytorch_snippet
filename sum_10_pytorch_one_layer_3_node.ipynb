{
  "nbformat": 4,
  "nbformat_minor": 0,
  "metadata": {
    "colab": {
      "name": "sum_10_pytorch_one_layer_3_node.ipynb",
      "provenance": [],
      "collapsed_sections": [],
      "authorship_tag": "ABX9TyPk2Ql8mMNkiTuW3ZSYlOYj",
      "include_colab_link": true
    },
    "kernelspec": {
      "name": "python3",
      "display_name": "Python 3"
    }
  },
  "cells": [
    {
      "cell_type": "markdown",
      "metadata": {
        "id": "view-in-github",
        "colab_type": "text"
      },
      "source": [
        "<a href=\"https://colab.research.google.com/github/Moshiii/pytorch_snippet/blob/master/sum_10_pytorch_one_layer_3_node.ipynb\" target=\"_parent\"><img src=\"https://colab.research.google.com/assets/colab-badge.svg\" alt=\"Open In Colab\"/></a>"
      ]
    },
    {
      "cell_type": "code",
      "metadata": {
        "id": "PqEHi_Eivnmk",
        "colab_type": "code",
        "colab": {
          "base_uri": "https://localhost:8080/",
          "height": 50
        },
        "outputId": "ce3cbddb-06f3-423c-beb4-81f7c660f539"
      },
      "source": [
        "import numpy\n",
        "import torch\n",
        "import random\n",
        "from torchsummary import summary\n",
        "import matplotlib.pyplot as plt\n",
        "import matplotlib.image as mpimg\n",
        "import seaborn as sns"
      ],
      "execution_count": 1,
      "outputs": [
        {
          "output_type": "stream",
          "text": [
            "/usr/local/lib/python3.6/dist-packages/statsmodels/tools/_testing.py:19: FutureWarning: pandas.util.testing is deprecated. Use the functions in the public API at pandas.testing instead.\n",
            "  import pandas.util.testing as tm\n"
          ],
          "name": "stderr"
        }
      ]
    },
    {
      "cell_type": "code",
      "metadata": {
        "id": "kBuZKjWFwt__",
        "colab_type": "code",
        "colab": {}
      },
      "source": [
        "def one_hot_to_num(one_hot):\n",
        "  return [i for i, j in enumerate(a)if j == max(a)]\n",
        "def npify_tsr(tsr):\n",
        "  numpy.set_printoptions(suppress=True)\n",
        "  return numpy.round(tsr.detach().numpy(), decimals=2)\n",
        "\n",
        "def show_tensor(dataset,v_range=None,idx=0):\n",
        "  ds=dataset.numpy()\n",
        "  plt.figure(idx,figsize=(5, 5))\n",
        "  print(idx)\n",
        "  if v_range:\n",
        "    sns.heatmap(ds, annot=True, linewidths=.5, vmin=v_range[0], vmax=v_range[1])\n",
        "  else:\n",
        "    sns.heatmap(ds, annot=True, linewidths=.5)\n"
      ],
      "execution_count": 0,
      "outputs": []
    },
    {
      "cell_type": "code",
      "metadata": {
        "id": "UE57hbC_ul57",
        "colab_type": "code",
        "colab": {}
      },
      "source": [
        "class Feedforward(torch.nn.Module):\n",
        "  def __init__(self, input_size, hidden_size, output_size):\n",
        "    super(Feedforward, self).__init__()\n",
        "    self.input_size = input_size\n",
        "    self.hidden_size  = hidden_size\n",
        "    self.output_size = output_size \n",
        "    self.fc1 = torch.nn.Linear(self.input_size, self.hidden_size)\n",
        "    self.relu = torch.nn.ReLU()\n",
        "    self.fc2 = torch.nn.Linear(self.hidden_size, output_size)\n",
        "    self.sigmoid = torch.nn.Sigmoid()\n",
        "  def forward(self, x):\n",
        "    self.layer_hidden = self.fc1(x)\n",
        "    self.layer_hidden_relu = self.sigmoid(self.layer_hidden)\n",
        "    self.layer_output = self.fc2(self.layer_hidden_relu)\n",
        "    self.layer_output_sig = self.sigmoid(self.layer_output)\n",
        "    return self.layer_output_sig"
      ],
      "execution_count": 0,
      "outputs": []
    },
    {
      "cell_type": "code",
      "metadata": {
        "id": "J_9VOstzpLEX",
        "colab_type": "code",
        "colab": {}
      },
      "source": [
        "class ModelLog:\n",
        "\n",
        "  def __init__(self, model):\n",
        "      self.rec_dic={0:[],1:[]}\n",
        "      self.model = model\n",
        "      \n",
        "  def model_weight_vis(self):\n",
        "      model_list = [m for m in self.model.modules()]\n",
        "      w_layer_1 = model_list[1].weight.data.clone()\n",
        "      model_list[1].bias.data\n",
        "      w_layer_2 = model_list[3].weight.data.clone()\n",
        "      self.rec_dic[0].append(w_layer_1.clone())\n",
        "      self.rec_dic[1].append(w_layer_2.clone())\n",
        "\n",
        "  def dump_all_weights(self):\n",
        "    self.dump_weight(self.rec_dic[0])\n",
        "    self.dump_weight(self.rec_dic[1])\n",
        "\n",
        "  def dump_weight(self,tensor_list):\n",
        "    idx=0\n",
        "    for i,t in enumerate(tensor_list):\n",
        "      if i>1:\n",
        "        idx+=1\n",
        "        show_tensor((tensor_list[i]-tensor_list[i-1])*100/tensor_list[i],idx=idx)"
      ],
      "execution_count": 0,
      "outputs": []
    },
    {
      "cell_type": "code",
      "metadata": {
        "id": "eC1MKJJ2nn7S",
        "colab_type": "code",
        "colab": {}
      },
      "source": [
        "def get_sum_data(n_samples=55,shuffle=True):\n",
        "  numbers=list(range(0,10))\n",
        "  pair=[]\n",
        "  for a in numbers:\n",
        "    for b in numbers:\n",
        "      if a+b<10:\n",
        "        y_scatter=[0]*10\n",
        "        y_scatter[a+b]=1\n",
        "        pair+=[[[a/10,b/10],(a+b)/10]]\n",
        "  random.shuffle(pair)\n",
        "  pair=pair[:n_samples] \n",
        "  x_train = [x[0] for x in pair]\n",
        "  y_train = [y[1] for y in pair]\n",
        "  return x_train, y_train"
      ],
      "execution_count": 0,
      "outputs": []
    },
    {
      "cell_type": "code",
      "metadata": {
        "id": "CaytetLqvlvL",
        "colab_type": "code",
        "colab": {}
      },
      "source": [
        "FF_model = Feedforward(2, 3, 1)\n",
        "criterion = torch.nn.BCELoss()\n",
        "optimizer = torch.optim.SGD(FF_model.parameters(), lr = 0.015)"
      ],
      "execution_count": 0,
      "outputs": []
    },
    {
      "cell_type": "code",
      "metadata": {
        "colab_type": "code",
        "id": "CpjDoaHeKkgb",
        "colab": {}
      },
      "source": [
        "x_train, y_train = get_sum_data(55)\n",
        "x_train = torch.FloatTensor(x_train)\n",
        "y_train = torch.FloatTensor(y_train)\n",
        "\n",
        "x_test, y_test = get_sum_data(5)\n",
        "x_test = torch.FloatTensor(x_test)\n",
        "y_test = torch.FloatTensor(y_test)"
      ],
      "execution_count": 0,
      "outputs": []
    },
    {
      "cell_type": "code",
      "metadata": {
        "id": "69rYFf-pvt2t",
        "colab_type": "code",
        "outputId": "5e9a390c-0e42-4058-e8fd-f30820f2885c",
        "colab": {
          "base_uri": "https://localhost:8080/",
          "height": 34
        }
      },
      "source": [
        "FF_model.eval()\n",
        "y_pred = FF_model(x_test)\n",
        "\n",
        "before_train = criterion(y_pred.squeeze(), y_test)\n",
        "print('Test loss before training' , before_train.item())"
      ],
      "execution_count": 8,
      "outputs": [
        {
          "output_type": "stream",
          "text": [
            "Test loss before training 0.6985764503479004\n"
          ],
          "name": "stdout"
        }
      ]
    },
    {
      "cell_type": "code",
      "metadata": {
        "id": "xXxBI4M-vy00",
        "colab_type": "code",
        "outputId": "767aa20f-964f-4b1f-dd2a-a3e8f386fbb6",
        "colab": {
          "base_uri": "https://localhost:8080/",
          "height": 1000
        }
      },
      "source": [
        "FF_model.train()\n",
        "epoch = 100000\n",
        "\n",
        "record_tracker= ModelLog(FF_model)\n",
        "\n",
        "for epoch in range(epoch):\n",
        "    FF_model.train()\n",
        "    optimizer.zero_grad()\n",
        "    # record_tracker.model_weight_vis()\n",
        "    y_pred = FF_model(x_train)# foward    \n",
        "    loss = criterion(y_pred.squeeze(), y_train)\n",
        "    # train_accuracy = 100 * correct / 5\n",
        "    # print(train_accuracy)\n",
        "\n",
        "    loss.backward()\n",
        "    optimizer.step()\n",
        "\n",
        "    if epoch % 2000 == 0:\n",
        "      record_tracker.model_weight_vis()\n",
        "      print('Epoch {}: train loss: {}'.format(epoch, loss.item())) \n",
        "      FF_model.eval()\n",
        "      y_pred = FF_model(x_test) \n",
        "      before_train = criterion(y_pred.squeeze(), y_test)\n",
        "      print('Test loss before training================' , before_train.item())\n",
        "# record_tracker.dump_all_weights()"
      ],
      "execution_count": 27,
      "outputs": [
        {
          "output_type": "stream",
          "text": [
            "Epoch 0: train loss: 0.6626535654067993\n",
            "Test loss before training================ 0.743435263633728\n",
            "Epoch 2000: train loss: 0.6565696597099304\n",
            "Test loss before training================ 0.7325037121772766\n",
            "Epoch 4000: train loss: 0.6476367115974426\n",
            "Test loss before training================ 0.7155050039291382\n",
            "Epoch 6000: train loss: 0.635246992111206\n",
            "Test loss before training================ 0.6908981204032898\n",
            "Epoch 8000: train loss: 0.6194904446601868\n",
            "Test loss before training================ 0.6587375402450562\n",
            "Epoch 10000: train loss: 0.6017265319824219\n",
            "Test loss before training================ 0.6219716668128967\n",
            "Epoch 12000: train loss: 0.5843818783760071\n",
            "Test loss before training================ 0.5859414339065552\n",
            "Epoch 14000: train loss: 0.5697316527366638\n",
            "Test loss before training================ 0.5556008219718933\n",
            "Epoch 16000: train loss: 0.5588158965110779\n",
            "Test loss before training================ 0.5331336259841919\n",
            "Epoch 18000: train loss: 0.5514262914657593\n",
            "Test loss before training================ 0.5180094838142395\n",
            "Epoch 20000: train loss: 0.5467504858970642\n",
            "Test loss before training================ 0.5084537267684937\n",
            "Epoch 22000: train loss: 0.5439231395721436\n",
            "Test loss before training================ 0.5026429891586304\n",
            "Epoch 24000: train loss: 0.5422636866569519\n",
            "Test loss before training================ 0.49918103218078613\n",
            "Epoch 26000: train loss: 0.5413081645965576\n",
            "Test loss before training================ 0.4971345365047455\n",
            "Epoch 28000: train loss: 0.5407640337944031\n",
            "Test loss before training================ 0.4959235191345215\n",
            "Epoch 30000: train loss: 0.5404558181762695\n",
            "Test loss before training================ 0.49520111083984375\n",
            "Epoch 32000: train loss: 0.540280818939209\n",
            "Test loss before training================ 0.4947640001773834\n",
            "Epoch 34000: train loss: 0.5401805639266968\n",
            "Test loss before training================ 0.4944944381713867\n",
            "Epoch 36000: train loss: 0.5401219129562378\n",
            "Test loss before training================ 0.4943241477012634\n",
            "Epoch 38000: train loss: 0.5400862693786621\n",
            "Test loss before training================ 0.4942137598991394\n",
            "Epoch 40000: train loss: 0.5400634407997131\n",
            "Test loss before training================ 0.49413973093032837\n",
            "Epoch 42000: train loss: 0.5400475859642029\n",
            "Test loss before training================ 0.4940885901451111\n",
            "Epoch 44000: train loss: 0.5400355458259583\n",
            "Test loss before training================ 0.494051992893219\n",
            "Epoch 46000: train loss: 0.5400258898735046\n",
            "Test loss before training================ 0.4940248131752014\n",
            "Epoch 48000: train loss: 0.5400173664093018\n",
            "Test loss before training================ 0.4940042495727539\n",
            "Epoch 50000: train loss: 0.5400094389915466\n",
            "Test loss before training================ 0.4939875602722168\n",
            "Epoch 52000: train loss: 0.5400021076202393\n",
            "Test loss before training================ 0.49397411942481995\n",
            "Epoch 54000: train loss: 0.5399948358535767\n",
            "Test loss before training================ 0.4939629137516022\n",
            "Epoch 56000: train loss: 0.5399878621101379\n",
            "Test loss before training================ 0.49395260214805603\n",
            "Epoch 58000: train loss: 0.539980947971344\n",
            "Test loss before training================ 0.49394306540489197\n",
            "Epoch 60000: train loss: 0.5399740934371948\n",
            "Test loss before training================ 0.4939354360103607\n",
            "Epoch 62000: train loss: 0.53996741771698\n",
            "Test loss before training================ 0.4939279556274414\n",
            "Epoch 64000: train loss: 0.5399607419967651\n",
            "Test loss before training================ 0.49392062425613403\n",
            "Epoch 66000: train loss: 0.5399541854858398\n",
            "Test loss before training================ 0.4939134120941162\n",
            "Epoch 68000: train loss: 0.5399475693702698\n",
            "Test loss before training================ 0.4939061999320984\n",
            "Epoch 70000: train loss: 0.5399410128593445\n",
            "Test loss before training================ 0.4938991665840149\n",
            "Epoch 72000: train loss: 0.5399346351623535\n",
            "Test loss before training================ 0.49389219284057617\n",
            "Epoch 74000: train loss: 0.5399282574653625\n",
            "Test loss before training================ 0.4938855767250061\n",
            "Epoch 76000: train loss: 0.5399219989776611\n",
            "Test loss before training================ 0.4938795566558838\n",
            "Epoch 78000: train loss: 0.5399156808853149\n",
            "Test loss before training================ 0.4938735365867615\n",
            "Epoch 80000: train loss: 0.5399096608161926\n",
            "Test loss before training================ 0.49386754631996155\n",
            "Epoch 82000: train loss: 0.539903461933136\n",
            "Test loss before training================ 0.49386149644851685\n",
            "Epoch 84000: train loss: 0.5398974418640137\n",
            "Test loss before training================ 0.4938552975654602\n",
            "Epoch 86000: train loss: 0.5398913025856018\n",
            "Test loss before training================ 0.493848979473114\n",
            "Epoch 88000: train loss: 0.539885401725769\n",
            "Test loss before training================ 0.4938426911830902\n",
            "Epoch 90000: train loss: 0.539879322052002\n",
            "Test loss before training================ 0.49383655190467834\n",
            "Epoch 92000: train loss: 0.539873480796814\n",
            "Test loss before training================ 0.4938303530216217\n",
            "Epoch 94000: train loss: 0.539867639541626\n",
            "Test loss before training================ 0.4938242435455322\n",
            "Epoch 96000: train loss: 0.5398617386817932\n",
            "Test loss before training================ 0.49381810426712036\n",
            "Epoch 98000: train loss: 0.53985595703125\n",
            "Test loss before training================ 0.49381202459335327\n"
          ],
          "name": "stdout"
        }
      ]
    },
    {
      "cell_type": "code",
      "metadata": {
        "id": "tCnbAtELv77d",
        "colab_type": "code",
        "outputId": "0d45a9bc-d19d-4e0b-d44f-b01a36b79c66",
        "colab": {
          "base_uri": "https://localhost:8080/",
          "height": 403
        }
      },
      "source": [
        "FF_model.eval()\n",
        "y_pred = FF_model(x_test)\n",
        "after_train = criterion(y_pred.squeeze(), y_test)\n",
        "print(\"x_test\")\n",
        "print(npify_tsr(x_test))\n",
        "# print(\"w_1\")\n",
        "# print(npify_tsr(record_tracker.rec_dic[0][-1]))\n",
        "# print(\"x_test*w_1\")\n",
        "# print(npify_tsr(FF_model.layer_hidden))\n",
        "print(\"relu(x_test*w_1)\")\n",
        "print(npify_tsr(FF_model.layer_hidden_relu))\n",
        "# print(\"w_2\")\n",
        "# print(npify_tsr(record_tracker.rec_dic[1][-1]))\n",
        "# print(\"relu(x_test*w_1)*w_2\")\n",
        "# print(npify_tsr(FF_model.layer_output))\n",
        "print(\"sig(relu(x_test*w_1)*w_2)\")\n",
        "print(npify_tsr(FF_model.layer_output_sig))\n",
        "for a in y_pred:\n",
        "  res = numpy.around(10*a.detach().numpy())\n",
        "  print(res)\n",
        "\n",
        "\n"
      ],
      "execution_count": 29,
      "outputs": [
        {
          "output_type": "stream",
          "text": [
            "x_test\n",
            "[[0.5 0. ]\n",
            " [0.1 0.1]\n",
            " [0.2 0.1]\n",
            " [0.2 0.7]\n",
            " [0.1 0. ]]\n",
            "relu(x_test*w_1)\n",
            "[[0.37 0.45 0.44]\n",
            " [0.36 0.58 0.23]\n",
            " [0.37 0.54 0.29]\n",
            " [0.62 0.44 0.75]\n",
            " [0.33 0.6  0.18]]\n",
            "sig(relu(x_test*w_1)*w_2)\n",
            "[[0.49]\n",
            " [0.19]\n",
            " [0.26]\n",
            " [0.87]\n",
            " [0.14]]\n",
            "[5.]\n",
            "[2.]\n",
            "[3.]\n",
            "[9.]\n",
            "[1.]\n"
          ],
          "name": "stdout"
        }
      ]
    },
    {
      "cell_type": "code",
      "metadata": {
        "id": "r-zL5CJiV_uX",
        "colab_type": "code",
        "outputId": "12c52d96-c8e8-4e40-88de-1c59778f05a0",
        "colab": {
          "base_uri": "https://localhost:8080/",
          "height": 265
        }
      },
      "source": [
        "import matplotlib.pyplot as plt\n",
        "plt.plot(x_test[0],\"r^\")\n",
        "plt.plot(npify_tsr(FF_model.layer_hidden)[0],'r--')\n",
        "# plt.plot(npify_tsr(FF_model.layer_hidden_relu)[0],'r^')\n",
        "\n",
        "plt.plot(npify_tsr(FF_model.layer_output)[0],'b--')\n",
        "plt.plot(npify_tsr(FF_model.layer_output_sig)[0],'b^')\n",
        "\n",
        "plt.show()"
      ],
      "execution_count": 11,
      "outputs": [
        {
          "output_type": "display_data",
          "data": {
            "image/png": "[encoded data removed]",
            "text/plain": [
              "<Figure size 432x288 with 1 Axes>"
            ]
          },
          "metadata": {
            "tags": [],
            "needs_background": "light"
          }
        }
      ]
    },
    {
      "cell_type": "markdown",
      "metadata": {
        "id": "nqfYojIzzAIi",
        "colab_type": "text"
      },
      "source": [
        "红线波动近似随机。 这里面我用了3个node来学习两个数字十以内的加法。结果发现跟100的比较起来没有本质区别 说明有的时候多余的权重只会让信息更加稀疏降低效率。 这个发现也印证了模型压缩的可行性。这算是这次实验的发现。"
      ]
    },
    {
      "cell_type": "code",
      "metadata": {
        "id": "sTzaQMdI3vEA",
        "colab_type": "code",
        "outputId": "4d433f97-faea-4d36-c612-556448c8b38f",
        "colab": {
          "base_uri": "https://localhost:8080/",
          "height": 338
        }
      },
      "source": [
        "record_tracker.dump_all_weights()"
      ],
      "execution_count": 26,
      "outputs": [
        {
          "output_type": "stream",
          "text": [
            "0\n"
          ],
          "name": "stdout"
        },
        {
          "output_type": "error",
          "ename": "TypeError",
          "evalue": "ignored",
          "traceback": [
            "\u001b[0;31m---------------------------------------------------------------------------\u001b[0m",
            "\u001b[0;31mTypeError\u001b[0m                                 Traceback (most recent call last)",
            "\u001b[0;32m<ipython-input-26-8134ba4a340d>\u001b[0m in \u001b[0;36m<module>\u001b[0;34m()\u001b[0m\n\u001b[0;32m----> 1\u001b[0;31m \u001b[0mrecord_tracker\u001b[0m\u001b[0;34m.\u001b[0m\u001b[0mdump_all_weights\u001b[0m\u001b[0;34m(\u001b[0m\u001b[0;34m)\u001b[0m\u001b[0;34m\u001b[0m\u001b[0;34m\u001b[0m\u001b[0m\n\u001b[0m",
            "\u001b[0;32m<ipython-input-4-9a8eb3b10324>\u001b[0m in \u001b[0;36mdump_all_weights\u001b[0;34m(self)\u001b[0m\n\u001b[1;32m     14\u001b[0m \u001b[0;34m\u001b[0m\u001b[0m\n\u001b[1;32m     15\u001b[0m   \u001b[0;32mdef\u001b[0m \u001b[0mdump_all_weights\u001b[0m\u001b[0;34m(\u001b[0m\u001b[0mself\u001b[0m\u001b[0;34m)\u001b[0m\u001b[0;34m:\u001b[0m\u001b[0;34m\u001b[0m\u001b[0;34m\u001b[0m\u001b[0m\n\u001b[0;32m---> 16\u001b[0;31m     \u001b[0mself\u001b[0m\u001b[0;34m.\u001b[0m\u001b[0mdump_weight\u001b[0m\u001b[0;34m(\u001b[0m\u001b[0mself\u001b[0m\u001b[0;34m.\u001b[0m\u001b[0mrec_dic\u001b[0m\u001b[0;34m[\u001b[0m\u001b[0;36m0\u001b[0m\u001b[0;34m]\u001b[0m\u001b[0;34m)\u001b[0m\u001b[0;34m\u001b[0m\u001b[0;34m\u001b[0m\u001b[0m\n\u001b[0m\u001b[1;32m     17\u001b[0m     \u001b[0mself\u001b[0m\u001b[0;34m.\u001b[0m\u001b[0mdump_weight\u001b[0m\u001b[0;34m(\u001b[0m\u001b[0mself\u001b[0m\u001b[0;34m.\u001b[0m\u001b[0mrec_dic\u001b[0m\u001b[0;34m[\u001b[0m\u001b[0;36m1\u001b[0m\u001b[0;34m]\u001b[0m\u001b[0;34m)\u001b[0m\u001b[0;34m\u001b[0m\u001b[0;34m\u001b[0m\u001b[0m\n\u001b[1;32m     18\u001b[0m \u001b[0;34m\u001b[0m\u001b[0m\n",
            "\u001b[0;32m<ipython-input-4-9a8eb3b10324>\u001b[0m in \u001b[0;36mdump_weight\u001b[0;34m(self, tensor_list)\u001b[0m\n\u001b[1;32m     22\u001b[0m       \u001b[0;32mif\u001b[0m \u001b[0mi\u001b[0m\u001b[0;34m>\u001b[0m\u001b[0;36m1\u001b[0m\u001b[0;34m:\u001b[0m\u001b[0;34m\u001b[0m\u001b[0;34m\u001b[0m\u001b[0m\n\u001b[1;32m     23\u001b[0m         \u001b[0midx\u001b[0m\u001b[0;34m+=\u001b[0m\u001b[0;36m1\u001b[0m\u001b[0;34m\u001b[0m\u001b[0;34m\u001b[0m\u001b[0m\n\u001b[0;32m---> 24\u001b[0;31m         \u001b[0mshow_tensor\u001b[0m\u001b[0;34m(\u001b[0m\u001b[0;34m(\u001b[0m\u001b[0mtensor_list\u001b[0m\u001b[0;34m[\u001b[0m\u001b[0mi\u001b[0m\u001b[0;34m]\u001b[0m\u001b[0;34m-\u001b[0m\u001b[0mtensor_list\u001b[0m\u001b[0;34m[\u001b[0m\u001b[0mi\u001b[0m\u001b[0;34m-\u001b[0m\u001b[0;36m1\u001b[0m\u001b[0;34m]\u001b[0m\u001b[0;34m)\u001b[0m\u001b[0;34m*\u001b[0m\u001b[0;36m100\u001b[0m\u001b[0;34m/\u001b[0m\u001b[0mtensor_list\u001b[0m\u001b[0;34m[\u001b[0m\u001b[0mi\u001b[0m\u001b[0;34m]\u001b[0m\u001b[0;34m,\u001b[0m\u001b[0midx\u001b[0m\u001b[0;34m)\u001b[0m\u001b[0;34m\u001b[0m\u001b[0;34m\u001b[0m\u001b[0m\n\u001b[0m",
            "\u001b[0;32m<ipython-input-19-db8de98c2ec3>\u001b[0m in \u001b[0;36mshow_tensor\u001b[0;34m(dataset, v_range, idx)\u001b[0m\n\u001b[1;32m     10\u001b[0m   \u001b[0mprint\u001b[0m\u001b[0;34m(\u001b[0m\u001b[0midx\u001b[0m\u001b[0;34m)\u001b[0m\u001b[0;34m\u001b[0m\u001b[0;34m\u001b[0m\u001b[0m\n\u001b[1;32m     11\u001b[0m   \u001b[0;32mif\u001b[0m \u001b[0mv_range\u001b[0m\u001b[0;34m:\u001b[0m\u001b[0;34m\u001b[0m\u001b[0;34m\u001b[0m\u001b[0m\n\u001b[0;32m---> 12\u001b[0;31m     \u001b[0msns\u001b[0m\u001b[0;34m.\u001b[0m\u001b[0mheatmap\u001b[0m\u001b[0;34m(\u001b[0m\u001b[0mds\u001b[0m\u001b[0;34m,\u001b[0m \u001b[0mannot\u001b[0m\u001b[0;34m=\u001b[0m\u001b[0;32mTrue\u001b[0m\u001b[0;34m,\u001b[0m \u001b[0mlinewidths\u001b[0m\u001b[0;34m=\u001b[0m\u001b[0;36m.5\u001b[0m\u001b[0;34m,\u001b[0m \u001b[0mvmin\u001b[0m\u001b[0;34m=\u001b[0m\u001b[0mv_range\u001b[0m\u001b[0;34m[\u001b[0m\u001b[0;36m0\u001b[0m\u001b[0;34m]\u001b[0m\u001b[0;34m,\u001b[0m \u001b[0mvmax\u001b[0m\u001b[0;34m=\u001b[0m\u001b[0mv_range\u001b[0m\u001b[0;34m[\u001b[0m\u001b[0;36m1\u001b[0m\u001b[0;34m]\u001b[0m\u001b[0;34m)\u001b[0m\u001b[0;34m\u001b[0m\u001b[0;34m\u001b[0m\u001b[0m\n\u001b[0m\u001b[1;32m     13\u001b[0m   \u001b[0;32melse\u001b[0m\u001b[0;34m:\u001b[0m\u001b[0;34m\u001b[0m\u001b[0;34m\u001b[0m\u001b[0m\n\u001b[1;32m     14\u001b[0m     \u001b[0msns\u001b[0m\u001b[0;34m.\u001b[0m\u001b[0mheatmap\u001b[0m\u001b[0;34m(\u001b[0m\u001b[0mds\u001b[0m\u001b[0;34m,\u001b[0m \u001b[0mannot\u001b[0m\u001b[0;34m=\u001b[0m\u001b[0;32mTrue\u001b[0m\u001b[0;34m,\u001b[0m \u001b[0mlinewidths\u001b[0m\u001b[0;34m=\u001b[0m\u001b[0;36m.5\u001b[0m\u001b[0;34m)\u001b[0m\u001b[0;34m\u001b[0m\u001b[0;34m\u001b[0m\u001b[0m\n",
            "\u001b[0;31mTypeError\u001b[0m: 'int' object is not subscriptable"
          ]
        },
        {
          "output_type": "display_data",
          "data": {
            "text/plain": [
              "<Figure size 360x360 with 0 Axes>"
            ]
          },
          "metadata": {
            "tags": []
          }
        }
      ]
    },
    {
      "cell_type": "code",
      "metadata": {
        "id": "_XLkCltt7P2L",
        "colab_type": "code",
        "colab": {}
      },
      "source": [
        "tensor_list = record_tracker.rec_dic[1]\n",
        "idx=0\n",
        "for i,t in enumerate(tensor_list):\n",
        "  idx+=1\n",
        "  if i>1:\n",
        "    # show_tensor((tensor_list[i]-tensor_list[i-1])/tensor_list[i],idx=idx)\n",
        "    show_tensor(tensor_list[i],idx=idx)\n",
        "    # plt.plot_surface(range(10), range(10), tensor_list[i])"
      ],
      "execution_count": 0,
      "outputs": []
    },
    {
      "cell_type": "code",
      "metadata": {
        "id": "ZNR2AYl8W-Za",
        "colab_type": "code",
        "colab": {
          "base_uri": "https://localhost:8080/",
          "height": 657
        },
        "outputId": "0f5bff9f-5154-4801-be76-15b93952a9db"
      },
      "source": [
        "tensor_list = record_tracker.rec_dic[0]\n",
        "show_tensor(tensor_list[-1],idx=0)\n",
        "tensor_list = record_tracker.rec_dic[1]\n",
        "show_tensor(tensor_list[-1],idx=1)\n"
      ],
      "execution_count": 32,
      "outputs": [
        {
          "output_type": "stream",
          "text": [
            "0\n",
            "1\n"
          ],
          "name": "stdout"
        },
        {
          "output_type": "display_data",
          "data": {
            "image/png": "[encoded data removed]",
            "text/plain": [
              "<Figure size 360x360 with 2 Axes>"
            ]
          },
          "metadata": {
            "tags": [],
            "needs_background": "light"
          }
        },
        {
          "output_type": "display_data",
          "data": {
            "image/png": "[encoded data removed]",
            "text/plain": [
              "<Figure size 360x360 with 2 Axes>"
            ]
          },
          "metadata": {
            "tags": [],
            "needs_background": "light"
          }
        }
      ]
    },
    {
      "cell_type": "code",
      "metadata": {
        "id": "bxMjPufUXpti",
        "colab_type": "code",
        "outputId": "fae1df83-f8b3-4d93-d434-34e17a77e1ca",
        "colab": {
          "base_uri": "https://localhost:8080/",
          "height": 248
        }
      },
      "source": [
        "# This import registers the 3D projection, but is otherwise unused.\n",
        "from mpl_toolkits.mplot3d import Axes3D  # noqa: F401 unused import\n",
        "\n",
        "import matplotlib.pyplot as plt\n",
        "from matplotlib import cm\n",
        "from matplotlib.ticker import LinearLocator, FormatStrFormatter\n",
        "import numpy as np\n",
        "\n",
        "\n",
        "fig = plt.figure()\n",
        "ax = fig.gca(projection='3d')\n",
        "\n",
        "# Make data.\n",
        "X = np.arange(0,2,1)\n",
        "Y = np.arange(0,3,1)\n",
        "X, Y = np.meshgrid(X, Y)\n",
        "# R = np.sqrt(X**2 + Y**2)\n",
        "# Z = np.sin(R)\n",
        "\n",
        "# Plot the surface.\n",
        "surf = ax.plot_surface(X, Y, tensor_list[i].numpy(), cmap=cm.coolwarm, linewidth=0, antialiased=False)\n",
        "\n",
        "# # Customize the z axis.\n",
        "# ax.set_zlim(-10, 10)\n",
        "# ax.zaxis.set_major_locator(LinearLocator(10))\n",
        "# ax.zaxis.set_major_formatter(FormatStrFormatter('%.02f'))\n",
        "\n",
        "# # Add a color bar which maps values to colors.\n",
        "# fig.colorbar(surf, shrink=0.5, aspect=5)\n",
        "\n",
        "# plt.show()\n",
        "# ax.view_init(30, 20)\n",
        "plt.show()\n",
        "# plt.pause(.001)"
      ],
      "execution_count": 24,
      "outputs": [
        {
          "output_type": "display_data",
          "data": {
            "image/png": "[encoded data removed]",
            "text/plain": [
              "<Figure size 432x288 with 1 Axes>"
            ]
          },
          "metadata": {
            "tags": [],
            "needs_background": "light"
          }
        }
      ]
    }
  ]
}