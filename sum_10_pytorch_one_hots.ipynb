{
  "nbformat": 4,
  "nbformat_minor": 0,
  "metadata": {
    "colab": {
      "name": " sum_10_pytorch_one_hots.ipynb",
      "provenance": [],
      "collapsed_sections": [],
      "authorship_tag": "ABX9TyNDkkDTbTzeWmX5QV3NC6qt",
      "include_colab_link": true
    },
    "kernelspec": {
      "name": "python3",
      "display_name": "Python 3"
    }
  },
  "cells": [
    {
      "cell_type": "markdown",
      "metadata": {
        "id": "view-in-github",
        "colab_type": "text"
      },
      "source": [
        "<a href=\"https://colab.research.google.com/github/Moshiii/pytorch_snippet/blob/master/sum_10_pytorch_one_hots.ipynb\" target=\"_parent\"><img src=\"https://colab.research.google.com/assets/colab-badge.svg\" alt=\"Open In Colab\"/></a>"
      ]
    },
    {
      "cell_type": "code",
      "metadata": {
        "id": "PqEHi_Eivnmk",
        "colab_type": "code",
        "outputId": "e8ffdd50-d2e6-4242-eb3e-77a4a13b3210",
        "colab": {
          "base_uri": "https://localhost:8080/",
          "height": 50
        }
      },
      "source": [
        "import numpy\n",
        "import torch\n",
        "import random\n",
        "from operator import eq\n",
        "from torchsummary import summary\n",
        "import matplotlib.pyplot as plt\n",
        "import matplotlib.image as mpimg\n",
        "import seaborn as sns"
      ],
      "execution_count": 1,
      "outputs": [
        {
          "output_type": "stream",
          "text": [
            "/usr/local/lib/python3.6/dist-packages/statsmodels/tools/_testing.py:19: FutureWarning: pandas.util.testing is deprecated. Use the functions in the public API at pandas.testing instead.\n",
            "  import pandas.util.testing as tm\n"
          ],
          "name": "stderr"
        }
      ]
    },
    {
      "cell_type": "code",
      "metadata": {
        "id": "kBuZKjWFwt__",
        "colab_type": "code",
        "colab": {}
      },
      "source": [
        "def one_hot_to_num(one_hot):\n",
        "  return [i for i, j in enumerate(one_hot)if j == max(one_hot)]\n",
        "def npify_tsr(tsr):\n",
        "  numpy.set_printoptions(suppress=True)\n",
        "  return numpy.round(tsr.detach().numpy(), decimals=2)\n",
        "\n",
        "def show_tensor(dataset,v_range=None,idx=0):\n",
        "  ds=dataset.numpy()\n",
        "  plt.figure(idx,figsize=(5, 5))\n",
        "  print(idx)\n",
        "  if v_range:\n",
        "    sns.heatmap(ds, annot=True, linewidths=.5, vmin=v_range[0], vmax=v_range[1])\n",
        "  else:\n",
        "    sns.heatmap(ds, annot=True, linewidths=.5)\n",
        "def num_to_one_hot(num):\n",
        "  scatter=[0]*10\n",
        "  scatter[num]=1\n",
        "  return scatter\n",
        "\n",
        "\n",
        "def accuracy(y_pred,y_test):\n",
        "  num_pred=[one_hot_to_num(a) for a in y_pred]\n",
        "  num_test=[one_hot_to_num(a) for a in y_test]\n",
        "  bool_list = map(eq, num_pred, num_test)\n",
        "  num_list = [1 if x==True else 0 for x in bool_list]\n",
        "  acc=sum(num_list)/50\n",
        "  return acc"
      ],
      "execution_count": 0,
      "outputs": []
    },
    {
      "cell_type": "code",
      "metadata": {
        "id": "J_9VOstzpLEX",
        "colab_type": "code",
        "colab": {}
      },
      "source": [
        "class ModelLog:\n",
        "\n",
        "  def __init__(self, model):\n",
        "      self.rec_dic={0:[],1:[]}\n",
        "      self.model = model\n",
        "      \n",
        "  def model_weight_vis(self):\n",
        "      model_list = [m for m in self.model.modules()]\n",
        "      w_layer_1 = model_list[1].weight.data.clone()\n",
        "      model_list[1].bias.data\n",
        "      w_layer_2 = model_list[3].weight.data.clone()\n",
        "      self.rec_dic[0].append(w_layer_1.clone())\n",
        "      self.rec_dic[1].append(w_layer_2.clone())\n",
        "\n",
        "  def dump_all_weights(self):\n",
        "    self.dump_weight(self.rec_dic[0])\n",
        "    self.dump_weight(self.rec_dic[1])\n",
        "\n",
        "  def dump_weight(self,tensor_list):\n",
        "    idx=0\n",
        "    for i,t in enumerate(tensor_list):\n",
        "      if i>1:\n",
        "        idx+=1\n",
        "        show_tensor((tensor_list[i]-tensor_list[i-1])*100/tensor_list[i],idx=idx)"
      ],
      "execution_count": 0,
      "outputs": []
    },
    {
      "cell_type": "code",
      "metadata": {
        "id": "eC1MKJJ2nn7S",
        "colab_type": "code",
        "colab": {}
      },
      "source": [
        "def get_sum_data(n_samples=55,shuffle=True):\n",
        "  numbers=list(range(0,10))\n",
        "  pair=[]\n",
        "  for a in numbers:\n",
        "    for b in numbers:\n",
        "      if a+b<10:\n",
        "        pair+=[[[num_to_one_hot(a),num_to_one_hot(b)],num_to_one_hot(a+b)]]\n",
        "  random.shuffle(pair)\n",
        "  pair=pair[:n_samples] \n",
        "  x_train = [x[0] for x in pair]\n",
        "  y_train = [y[1] for y in pair]\n",
        "  return x_train, y_train"
      ],
      "execution_count": 0,
      "outputs": []
    },
    {
      "cell_type": "code",
      "metadata": {
        "id": "UE57hbC_ul57",
        "colab_type": "code",
        "colab": {}
      },
      "source": [
        "class Feedforward(torch.nn.Module):\n",
        "  def __init__(self, input_size, hidden_size, output_size):\n",
        "    super(Feedforward, self).__init__()\n",
        "    self.input_size = input_size\n",
        "    self.hidden_size = hidden_size\n",
        "    self.output_size = output_size \n",
        "    self.fc1_1 = torch.nn.Linear(self.input_size*2, self.hidden_size)\n",
        "    # self.fc1_2 = torch.nn.Linear(self.input_size, self.hidden_size)\n",
        "    \n",
        "    self.relu = torch.nn.ReLU()\n",
        "    self.fc2 = torch.nn.Linear(self.hidden_size, output_size)\n",
        "    self.sigmoid = torch.nn.Sigmoid()\n",
        "  def forward(self, x1,x2):\n",
        "    self.layer_hidden =   self.fc1_1(torch.cat([x1, x2], dim=1))\n",
        "    \n",
        "    # input_1 = self.fc1_1(x1)\n",
        "    # input_2 = self.fc1_1(x2)\n",
        "    # self.layer_hidden = torch.cat((input_1.view(input_1.size(0), -1),input_2.view(input_2.size(0), -1)), dim=1)\n",
        "    # self.layer_hidden = torch.cat([A, B], dim=0)\n",
        "    #we need to concat two layers\n",
        "    # self.layer_hidden = input_1+input_2\n",
        "    # self.layer_hidden = torch.cat([input_1, input_2], dim=1)\n",
        "    self.layer_hidden_relu = self.relu(self.layer_hidden)\n",
        "    self.layer_output = self.fc2(self.layer_hidden_relu)\n",
        "    self.layer_output_sig = self.sigmoid(self.layer_output)\n",
        "    return self.layer_output_sig"
      ],
      "execution_count": 0,
      "outputs": []
    },
    {
      "cell_type": "code",
      "metadata": {
        "id": "CaytetLqvlvL",
        "colab_type": "code",
        "colab": {}
      },
      "source": [
        "FF_model = Feedforward(10, 3, 10)\n",
        "criterion = torch.nn.BCELoss()\n",
        "# optimizer = torch.optim.SGD(FF_model.parameters(), lr = 0.015)\n",
        "optimizer = torch.optim.Adam(FF_model.parameters(), lr=0.001, betas=(0.9, 0.999), eps=1e-08, weight_decay=0, amsgrad=False)"
      ],
      "execution_count": 0,
      "outputs": []
    },
    {
      "cell_type": "code",
      "metadata": {
        "colab_type": "code",
        "id": "CpjDoaHeKkgb",
        "colab": {}
      },
      "source": [
        "x_train, y_train = get_sum_data(55)\n",
        "x_train = torch.FloatTensor(x_train)\n",
        "y_train = torch.FloatTensor(y_train)\n",
        "\n",
        "x_test, y_test = get_sum_data(50)\n",
        "x_test = torch.FloatTensor(x_test)\n",
        "y_test = torch.FloatTensor(y_test)"
      ],
      "execution_count": 0,
      "outputs": []
    },
    {
      "cell_type": "code",
      "metadata": {
        "id": "MZG_eQUgZ_5d",
        "colab_type": "code",
        "colab": {}
      },
      "source": [
        "# model_list = [m for m in FF_model.modules()]\n",
        "# model_list = [m for m in FF_model.named_children()]\n",
        "# print(model_list)"
      ],
      "execution_count": 0,
      "outputs": []
    },
    {
      "cell_type": "code",
      "metadata": {
        "id": "69rYFf-pvt2t",
        "colab_type": "code",
        "outputId": "f7bfbba2-096c-4ef6-f235-e6b5937f18f7",
        "colab": {
          "base_uri": "https://localhost:8080/",
          "height": 34
        }
      },
      "source": [
        "FF_model.eval()\n",
        "y_pred = FF_model(x_test[:,0],x_test[:,1])\n",
        "\n",
        "before_train = criterion(y_pred.squeeze(), y_test)\n",
        "print('Test loss before training' , before_train.item())"
      ],
      "execution_count": 47,
      "outputs": [
        {
          "output_type": "stream",
          "text": [
            "Test loss before training 0.7395612597465515\n"
          ],
          "name": "stdout"
        }
      ]
    },
    {
      "cell_type": "code",
      "metadata": {
        "id": "xXxBI4M-vy00",
        "colab_type": "code",
        "outputId": "c47f278c-602c-4ef9-bc7f-a1956079e52b",
        "colab": {
          "base_uri": "https://localhost:8080/",
          "height": 269
        }
      },
      "source": [
        "FF_model.train()\n",
        "epoch = 10000\n",
        "record_tracker= ModelLog(FF_model)\n",
        "\n",
        "for epoch in range(epoch):\n",
        "    FF_model.train()\n",
        "    optimizer.zero_grad()\n",
        "    # record_tracker.model_weight_vis()\n",
        "    y_pred = FF_model(x_train[:,0],x_train[:,1])# foward    \n",
        "    loss = criterion(y_pred.squeeze(), y_train)\n",
        "    # train_accuracy = 100 * correct / 5\n",
        "    # print(train_accuracy)\n",
        "\n",
        "    loss.backward()\n",
        "    optimizer.step()\n",
        "\n",
        "    if epoch % 2000 == 0:\n",
        "      # record_tracker.model_weight_vis()\n",
        "      print('Epoch {}: train loss: {}'.format(epoch, loss.item())) \n",
        "      FF_model.eval()\n",
        "      y_pred = FF_model(x_test[:,0],x_test[:,1])\n",
        "      before_train = criterion(y_pred.squeeze(), y_test)\n",
        "      acc = accuracy(y_pred,y_test)\n",
        "      print('Test loss before training================' , before_train.item())\n",
        "      print(acc)\n",
        "# record_tracker.dump_all_weights()"
      ],
      "execution_count": 48,
      "outputs": [
        {
          "output_type": "stream",
          "text": [
            "Epoch 0: train loss: 0.7400338649749756\n",
            "Test loss before training================ 0.7388671636581421\n",
            "0.06\n",
            "Epoch 2000: train loss: 0.2507794499397278\n",
            "Test loss before training================ 0.25531861186027527\n",
            "0.22\n",
            "Epoch 4000: train loss: 0.18809710443019867\n",
            "Test loss before training================ 0.192346453666687\n",
            "0.74\n",
            "Epoch 6000: train loss: 0.1404256522655487\n",
            "Test loss before training================ 0.14279422163963318\n",
            "0.98\n",
            "Epoch 8000: train loss: 0.11202332377433777\n",
            "Test loss before training================ 0.1136232390999794\n",
            "1.0\n"
          ],
          "name": "stdout"
        }
      ]
    },
    {
      "cell_type": "markdown",
      "metadata": {
        "id": "1KGHIyXduLXj",
        "colab_type": "text"
      },
      "source": [
        "我之前尝试过将两个数字的one-hot向量分别输入模型结果效果并不好 后来将两个input直接concat之后输入进去结果就非常的好 这之中我又换了优化器 从SGD换成了Adam 效果非常显著 之前只用sgd的时候都是50%左右的准确率\n",
        "现在竟然可以达到100 非常惊人\n"
      ]
    },
    {
      "cell_type": "code",
      "metadata": {
        "id": "tCnbAtELv77d",
        "colab_type": "code",
        "outputId": "6fcf1157-65be-4d59-a50d-d6716f900126",
        "colab": {
          "base_uri": "https://localhost:8080/",
          "height": 67
        }
      },
      "source": [
        "FF_model.eval()\n",
        "y_pred = FF_model(x_test[:,0],x_test[:,1])\n",
        "after_train = criterion(y_pred.squeeze(), y_test)\n",
        "print(\"x_test\")\n",
        "# print(npify_tsr(x_test))\n",
        "# print(\"w_1\")\n",
        "# print(npify_tsr(record_tracker.rec_dic[0][-1]))\n",
        "# print(\"x_test*w_1\")\n",
        "# print(npify_tsr(FF_model.layer_hidden))\n",
        "print(\"relu(x_test*w_1)\")\n",
        "# print(npify_tsr(FF_model.layer_hidden_relu))\n",
        "# print(\"w_2\")\n",
        "# print(npify_tsr(record_tracker.rec_dic[1][-1]))\n",
        "# print(\"relu(x_test*w_1)*w_2\")\n",
        "# print(npify_tsr(FF_model.layer_output))\n",
        "print(\"sig(relu(x_test*w_1)*w_2)\")\n",
        "# print(npify_tsr(FF_model.layer_output_sig))\n"
      ],
      "execution_count": 49,
      "outputs": [
        {
          "output_type": "stream",
          "text": [
            "x_test\n",
            "relu(x_test*w_1)\n",
            "sig(relu(x_test*w_1)*w_2)\n"
          ],
          "name": "stdout"
        }
      ]
    },
    {
      "cell_type": "code",
      "metadata": {
        "id": "r-zL5CJiV_uX",
        "colab_type": "code",
        "outputId": "06f6c81b-630d-4dbe-97d4-249846ad102d",
        "colab": {
          "base_uri": "https://localhost:8080/",
          "height": 265
        }
      },
      "source": [
        "import matplotlib.pyplot as plt\n",
        "plt.plot(x_test[1],\"r^\")\n",
        "plt.plot(npify_tsr(FF_model.layer_hidden)[1],'r--')\n",
        "# plt.plot(npify_tsr(FF_model.layer_hidden_relu)[0],'r^')\n",
        "\n",
        "plt.plot(npify_tsr(FF_model.layer_output)[1],'b--')\n",
        "plt.plot(npify_tsr(FF_model.layer_output_sig)[1],'b^')\n",
        "\n",
        "plt.show()"
      ],
      "execution_count": 50,
      "outputs": [
        {
          "output_type": "display_data",
          "data": {
            "image/png": "[encoded data removed]",
            "text/plain": [
              "<Figure size 432x288 with 1 Axes>"
            ]
          },
          "metadata": {
            "tags": [],
            "needs_background": "light"
          }
        }
      ]
    },
    {
      "cell_type": "markdown",
      "metadata": {
        "id": "nqfYojIzzAIi",
        "colab_type": "text"
      },
      "source": [
        "红线波动近似随机。 这里面我用了3个node来学习两个数字十以内的加法。结果发现跟100的比较起来没有本质区别 说明有的时候多余的权重只会让信息更加稀疏降低效率。 这个发现也印证了模型压缩的可行性。这算是这次实验的发现。"
      ]
    },
    {
      "cell_type": "code",
      "metadata": {
        "id": "sTzaQMdI3vEA",
        "colab_type": "code",
        "colab": {}
      },
      "source": [
        "record_tracker.dump_all_weights()"
      ],
      "execution_count": 0,
      "outputs": []
    },
    {
      "cell_type": "code",
      "metadata": {
        "id": "_XLkCltt7P2L",
        "colab_type": "code",
        "colab": {}
      },
      "source": [
        "tensor_list = record_tracker.rec_dic[1]\n",
        "idx=0\n",
        "for i,t in enumerate(tensor_list):\n",
        "  idx+=1\n",
        "  if i>1:\n",
        "    # show_tensor((tensor_list[i]-tensor_list[i-1])/tensor_list[i],idx=idx)\n",
        "    show_tensor(tensor_list[i],idx=idx)\n",
        "    # plt.plot_surface(range(10), range(10), tensor_list[i])"
      ],
      "execution_count": 0,
      "outputs": []
    },
    {
      "cell_type": "code",
      "metadata": {
        "id": "ZNR2AYl8W-Za",
        "colab_type": "code",
        "colab": {}
      },
      "source": [
        "\n",
        "tensor_list = record_tracker.rec_dic[0]\n",
        "show_tensor(tensor_list[-1],idx=0)\n",
        "tensor_list = record_tracker.rec_dic[1]\n",
        "show_tensor(tensor_list[-1],idx=1)\n"
      ],
      "execution_count": 0,
      "outputs": []
    },
    {
      "cell_type": "code",
      "metadata": {
        "id": "bxMjPufUXpti",
        "colab_type": "code",
        "colab": {}
      },
      "source": [
        "# This import registers the 3D projection, but is otherwise unused.\n",
        "from mpl_toolkits.mplot3d import Axes3D  # noqa: F401 unused import\n",
        "\n",
        "import matplotlib.pyplot as plt\n",
        "from matplotlib import cm\n",
        "from matplotlib.ticker import LinearLocator, FormatStrFormatter\n",
        "import numpy as np\n",
        "\n",
        "\n",
        "fig = plt.figure()\n",
        "ax = fig.gca(projection='3d')\n",
        "\n",
        "# Make data.\n",
        "X = np.arange(0,2,1)\n",
        "Y = np.arange(0,3,1)\n",
        "X, Y = np.meshgrid(X, Y)\n",
        "# R = np.sqrt(X**2 + Y**2)\n",
        "# Z = np.sin(R)\n",
        "\n",
        "# Plot the surface.\n",
        "surf = ax.plot_surface(X, Y, tensor_list[i].numpy(), cmap=cm.coolwarm, linewidth=0, antialiased=False)\n",
        "\n",
        "# # Customize the z axis.\n",
        "# ax.set_zlim(-10, 10)\n",
        "# ax.zaxis.set_major_locator(LinearLocator(10))\n",
        "# ax.zaxis.set_major_formatter(FormatStrFormatter('%.02f'))\n",
        "\n",
        "# # Add a color bar which maps values to colors.\n",
        "# fig.colorbar(surf, shrink=0.5, aspect=5)\n",
        "\n",
        "# plt.show()\n",
        "# ax.view_init(30, 20)\n",
        "plt.show()\n",
        "# plt.pause(.001)"
      ],
      "execution_count": 0,
      "outputs": []
    }
  ]
}